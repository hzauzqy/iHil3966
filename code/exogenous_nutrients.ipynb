{
 "cells": [
  {
   "cell_type": "code",
   "execution_count": null,
   "id": "d39da698",
   "metadata": {},
   "outputs": [],
   "source": [
    "import pandas as pd\n",
    "import numpy as np\n",
    "import networkx as nx"
   ]
  },
  {
   "cell_type": "code",
   "execution_count": null,
   "id": "c5bd187d",
   "metadata": {},
   "outputs": [],
   "source": []
  },
  {
   "cell_type": "code",
   "execution_count": null,
   "id": "3f7f3c52",
   "metadata": {},
   "outputs": [],
   "source": [
    "inpath = \"iHil3966.xls\"\n",
    "reac = pd.read_excel(inpath)\n",
    "df2 = pd.read_excel(inpath,sheet_name=\"Metabolite List\")\n",
    "df3 = df2.iloc[:,0:2]\n",
    "reaction = list(reac[\"Reaction\"])\n",
    "all_left, all_right = exo_metabolic_1(reaction)\n",
    "    \n",
    "df = exo_metabolic_2(all_left,all_right)\n",
    "df4 = pd.merge(df,df3,on=\"Abbreviation\")"
   ]
  },
  {
   "cell_type": "code",
   "execution_count": null,
   "id": "392feed3",
   "metadata": {},
   "outputs": [],
   "source": [
    "\n",
    "met_all=list(df2['Abbreviation'])\n",
    "met_all2=[]\n",
    "for i in met_all:\n",
    "    if i[-3:] == '[e]':\n",
    "        met_all2.append(i)\n",
    "met_all3=[x[:-4] for x in met_all2]"
   ]
  },
  {
   "cell_type": "code",
   "execution_count": null,
   "id": "ecdcc964",
   "metadata": {},
   "outputs": [],
   "source": [
    "all_left2=[x[:-4] for x in all_left]\n",
    "all_right2=[x[:-4] for x in all_right]"
   ]
  },
  {
   "cell_type": "code",
   "execution_count": null,
   "id": "e0f955eb",
   "metadata": {},
   "outputs": [],
   "source": [
    "df_new = exo_metabolic_2(all_left2,all_right2)\n",
    "new_met=list(df3['Abbreviation'])\n",
    "new_met2=[x[:-4] for x in new_met]\n",
    "df3_new=pd.DataFrame({'Abbreviation':new_met2,'Description':list(df3['Description'])})\n",
    "df4_new = pd.merge(df_new,df3_new,on=\"Abbreviation\")\n",
    "df4_new_unique = df4_new.drop_duplicates(subset=['Abbreviation'],keep='first')"
   ]
  },
  {
   "cell_type": "code",
   "execution_count": null,
   "id": "6b68fdc1",
   "metadata": {},
   "outputs": [],
   "source": [
    "set1 = set(list(df4_new_unique['Abbreviation']))\n",
    "set3 = set(met_all3)"
   ]
  },
  {
   "cell_type": "code",
   "execution_count": null,
   "id": "24499200",
   "metadata": {},
   "outputs": [],
   "source": [
    "exchange=list(set1 & set3)\n",
    "rxn_index1=[]\n",
    "for i in reaction_list:\n",
    "    if '<=>' in i: \n",
    "        xx=i.split('  <=> ')[0]\n",
    "        rxn_index1.append(xx)\n",
    "    if '->' in i:\n",
    "        xx=i.split('  -> ')[0]\n",
    "        rxn_index1.append(xx)\n",
    "        "
   ]
  },
  {
   "cell_type": "code",
   "execution_count": null,
   "id": "562ae873",
   "metadata": {},
   "outputs": [],
   "source": [
    "rxn_index2 = []\n",
    "for i in exchange:\n",
    "    xx2 = i + 'e[e]'\n",
    "    if xx2 in rxn_index1:\n",
    "        index = rxn_index1.index(xx2)\n",
    "        rxn_index2.append(index)\n",
    "    else:\n",
    "        print(f\"{xx2} is not in the list.\")\n",
    "        exchange.remove(xx2)"
   ]
  },
  {
   "cell_type": "code",
   "execution_count": null,
   "id": "217e00e1",
   "metadata": {},
   "outputs": [],
   "source": [
    "rxn_name_all=list(reac[\"Abbreviation\"])\n",
    "exchange_reaction_ids=[]\n",
    "for i in rxn_index2:\n",
    "    exchange_reaction_ids.append(rxn_name_all[int(i)])"
   ]
  },
  {
   "cell_type": "code",
   "execution_count": null,
   "id": "eaf9a530",
   "metadata": {},
   "outputs": [],
   "source": [
    "exchange2=[x+'e[e]' for x in exchange]\n",
    "ex_rxn_mets_df=pd.DataFrame({'ID':exchange_reaction_ids,'Abbreviation':exchange2})\n",
    "ex_rxn_mets_df = pd.merge(ex_rxn_mets_df,df3,on=\"Abbreviation\")"
   ]
  },
  {
   "cell_type": "code",
   "execution_count": null,
   "id": "72c78b3c",
   "metadata": {},
   "outputs": [],
   "source": []
  },
  {
   "cell_type": "code",
   "execution_count": null,
   "id": "67cbca40",
   "metadata": {},
   "outputs": [],
   "source": [
    "import cobra\n",
    "import numpy as np\n",
    "from scipy.stats import pearsonr"
   ]
  },
  {
   "cell_type": "code",
   "execution_count": null,
   "id": "c7e52b07",
   "metadata": {},
   "outputs": [],
   "source": [
    "model = cobra.io.read_sbml_model('iHil3966.xml')"
   ]
  },
  {
   "cell_type": "code",
   "execution_count": null,
   "id": "807303f3",
   "metadata": {},
   "outputs": [],
   "source": [
    "# Calculate the scenario where only one metabolite is restricted\n",
    "# Assume exchange_reaction_ids, model, lower_bounds are already defined\n",
    "lower_bounds = [1, 2, 3, 4, 10, 20, 30, 50, 100, 200, 300, 400, 500, 1000]\n",
    "# Store scores for each metabolite\n",
    "\n",
    "# Set standard lower bounds for all relevant compounds, establishing a baseline\n",
    "standard_lower_bound = 0  # Assumed standard lower bound, set to 80% of maximum biomass, using this lower bound (10) the biomass is 3.55*0.8=2.84\n",
    "# for exchange_id in exchange_reaction_ids:\n",
    "#     model.reactions.get_by_id(exchange_id).lower_bound = standard_lower_bound\n",
    "\n",
    "# Calculate the baseline growth rate\n",
    "# baseline_solution = model.optimize()\n",
    "# baseline_growth_rate = baseline_solution.objective_value\n",
    "\n",
    "for exchange_id in exchange_reaction_ids:\n",
    "    # Store growth rate increases and relative growth rates after each condition change\n",
    "    growth_rate_increases = []\n",
    "    growth_rates_relative_increase = []\n",
    "    model.reactions.get_by_id(exchange_id).lower_bound = standard_lower_bound\n",
    "    # Calculate the baseline growth rate\n",
    "    baseline_solution = model.optimize()\n",
    "    baseline_growth_rate = baseline_solution.objective_value\n",
    "    for lb in lower_bounds:\n",
    "        # Restore to baseline first\n",
    "#         for reset_id in exchange_reaction_ids:\n",
    "#             model.reactions.get_by_id(reset_id).lower_bound = standard_lower_bound\n",
    "        \n",
    "        # Change the lower bound of the current compound individually\n",
    "        model.reactions.get_by_id(exchange_id).lower_bound = -lb\n",
    "        \n",
    "        # Perform FBA (Flux Balance Analysis)\n",
    "        solution = model.optimize()\n",
    "        \n",
    "        # Record the growth rate under current conditions\n",
    "        growth_rate = solution.objective_value\n",
    "        \n",
    "        # Calculate the increase in growth rate and the relative growth rate\n",
    "        growth_rate_increase = growth_rate - baseline_growth_rate\n",
    "        growth_rate_increases.append(growth_rate_increase)\n",
    "        \n",
    "        # If the baseline growth rate is 0 (to prevent division by zero error), set the relative growth rate to np.nan\n",
    "        relative_increase = (growth_rate_increase / baseline_growth_rate * 100) if baseline_growth_rate else np.nan\n",
    "        growth_rates_relative_increase.append(relative_increase)\n",
    "    \n",
    "    # Calculate the average growth rate increase, correlation score, and average relative growth rate for each compound\n",
    "    average_growth_rate = np.mean(growth_rate_increases)\n",
    "    average_relative_increase = np.mean(growth_rates_relative_increase)\n",
    "    correlation, _ = pearsonr(lower_bounds, growth_rate_increases)\n",
    "    \n",
    "    # Store results\n",
    "    scores[exchange_id] = {\"average_growth_rate\": average_growth_rate,\n",
    "                           \"average_relative_increase\": average_relative_increase,\n",
    "                           \"correlation\": correlation}\n",
    "\n",
    "    model.reactions.get_by_id(exchange_id).lower_bound = -1000\n"
   ]
  },
  {
   "cell_type": "code",
   "execution_count": null,
   "id": "0ed8fed3",
   "metadata": {},
   "outputs": [],
   "source": [
    "df = pd.DataFrame.from_dict(scores,orient='index')\n",
    "df = df.sort_values(by=\"average_relative_increase\", ascending=False)"
   ]
  },
  {
   "cell_type": "code",
   "execution_count": null,
   "id": "1156d376",
   "metadata": {},
   "outputs": [],
   "source": [
    "df_reset = df.reset_index()\n",
    "df_reset.rename(columns={'index': 'Exchange Reaction ID'}, inplace=True)\n",
    "df_results_final=pd.merge(ex_rxn_mets_df,df_reset)\n",
    "df_results_final.sort_values(by=\"average_growth_rate\", ascending=False).head(20)"
   ]
  }
 ],
 "metadata": {
  "kernelspec": {
   "display_name": "Python 3 (ipykernel)",
   "language": "python",
   "name": "python3"
  },
  "language_info": {
   "codemirror_mode": {
    "name": "ipython",
    "version": 3
   },
   "file_extension": ".py",
   "mimetype": "text/x-python",
   "name": "python",
   "nbconvert_exporter": "python",
   "pygments_lexer": "ipython3",
   "version": "3.7.3"
  }
 },
 "nbformat": 4,
 "nbformat_minor": 5
}
